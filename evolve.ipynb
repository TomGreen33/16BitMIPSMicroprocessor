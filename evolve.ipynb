{
  "nbformat": 4,
  "nbformat_minor": 0,
  "metadata": {
    "colab": {
      "provenance": [],
      "gpuType": "T4",
      "mount_file_id": "17gmHVbqWvYl3lknJ03w-1HL6ydzs0e-q",
      "authorship_tag": "ABX9TyO310nsoGjFGraQhETWEN3L",
      "include_colab_link": true
    },
    "kernelspec": {
      "name": "python3",
      "display_name": "Python 3"
    },
    "language_info": {
      "name": "python"
    },
    "accelerator": "GPU"
  },
  "cells": [
    {
      "cell_type": "markdown",
      "metadata": {
        "id": "view-in-github",
        "colab_type": "text"
      },
      "source": [
        "<a href=\"https://colab.research.google.com/github/TomGreen33/16BitMIPSMicroprocessor/blob/main/evolve.ipynb\" target=\"_parent\"><img src=\"https://colab.research.google.com/assets/colab-badge.svg\" alt=\"Open In Colab\"/></a>"
      ]
    },
    {
      "cell_type": "markdown",
      "source": [
        "# Make sure to mount google drive first"
      ],
      "metadata": {
        "id": "H6HOQ7ktv6T_"
      }
    },
    {
      "cell_type": "markdown",
      "source": [
        "# Copy deployment keys from google drive into /root/.ssh"
      ],
      "metadata": {
        "id": "dbzGFhGDwMYq"
      }
    },
    {
      "cell_type": "code",
      "source": [
        "!mkdir /root/.ssh/\n",
        "!cp /content/drive/MyDrive/\"deploy keys\"/id_ed25519* /root/.ssh/\n",
        "!ls /root/.ssh"
      ],
      "metadata": {
        "colab": {
          "base_uri": "https://localhost:8080/"
        },
        "id": "hUWk8drDaWGT",
        "outputId": "6d637bce-285b-4505-dcb4-63a7a8685ef6"
      },
      "execution_count": 10,
      "outputs": [
        {
          "output_type": "stream",
          "name": "stdout",
          "text": [
            "mkdir: cannot create directory ‘/root/.ssh/’: File exists\n",
            "id_ed25519  id_ed25519.pub  known_hosts\n"
          ]
        }
      ]
    },
    {
      "cell_type": "code",
      "source": [
        "# import shutil\n",
        "# shutil.rmtree('/content/stat_940_project/population')"
      ],
      "metadata": {
        "id": "-lgTIu5W3xSN"
      },
      "execution_count": 24,
      "outputs": []
    },
    {
      "cell_type": "markdown",
      "source": [
        "# Trust github"
      ],
      "metadata": {
        "id": "Alu-DyEXwZS1"
      }
    },
    {
      "cell_type": "code",
      "source": [
        "!ssh-keyscan github.com >> /root/.ssh/known_hosts"
      ],
      "metadata": {
        "colab": {
          "base_uri": "https://localhost:8080/"
        },
        "id": "rBnWd5HsbqGI",
        "outputId": "fea2c6ab-cd2a-4a44-b736-e2c7b4ff48b0"
      },
      "execution_count": 11,
      "outputs": [
        {
          "output_type": "stream",
          "name": "stdout",
          "text": [
            "# github.com:22 SSH-2.0-babeld-cdaad034\n",
            "# github.com:22 SSH-2.0-babeld-cdaad034\n",
            "# github.com:22 SSH-2.0-babeld-cdaad034\n",
            "# github.com:22 SSH-2.0-babeld-cdaad034\n",
            "# github.com:22 SSH-2.0-babeld-cdaad034\n"
          ]
        }
      ]
    },
    {
      "cell_type": "markdown",
      "source": [
        "# Authenticate to github"
      ],
      "metadata": {
        "id": "2HeYuVWcwfM0"
      }
    },
    {
      "cell_type": "code",
      "source": [
        "!ssh -T git@github.com"
      ],
      "metadata": {
        "colab": {
          "base_uri": "https://localhost:8080/"
        },
        "id": "oJDNHlNOoh4Y",
        "outputId": "b360c250-55a5-4956-cd5a-9e52de5b196e"
      },
      "execution_count": 12,
      "outputs": [
        {
          "output_type": "stream",
          "name": "stdout",
          "text": [
            "Hi TomGreen33/stat_940_project! You've successfully authenticated, but GitHub does not provide shell access.\n"
          ]
        }
      ]
    },
    {
      "cell_type": "markdown",
      "source": [
        "# Clone repository"
      ],
      "metadata": {
        "id": "frGnXtTHwnYQ"
      }
    },
    {
      "cell_type": "code",
      "source": [
        "!git clone git@github.com:TomGreen33/stat_940_project.git"
      ],
      "metadata": {
        "colab": {
          "base_uri": "https://localhost:8080/"
        },
        "id": "xu3XcY9JoyUo",
        "outputId": "2d2a35c7-4a03-460b-f3dd-936c3ad76edb"
      },
      "execution_count": 13,
      "outputs": [
        {
          "output_type": "stream",
          "name": "stdout",
          "text": [
            "Cloning into 'stat_940_project'...\n",
            "remote: Enumerating objects: 211, done.\u001b[K\n",
            "remote: Counting objects: 100% (211/211), done.\u001b[K\n",
            "remote: Compressing objects: 100% (136/136), done.\u001b[K\n",
            "remote: Total 211 (delta 105), reused 178 (delta 74), pack-reused 0\u001b[K\n",
            "Receiving objects: 100% (211/211), 63.21 KiB | 409.00 KiB/s, done.\n",
            "Resolving deltas: 100% (105/105), done.\n"
          ]
        }
      ]
    },
    {
      "cell_type": "markdown",
      "source": [
        "# Install packages"
      ],
      "metadata": {
        "id": "yFwf56Q-wqbz"
      }
    },
    {
      "cell_type": "code",
      "source": [
        "!pip install tensorflow-addons\n",
        "!pip install networkx\n",
        "!apt install libgraphviz-dev\n",
        "!pip install pygraphviz"
      ],
      "metadata": {
        "colab": {
          "base_uri": "https://localhost:8080/"
        },
        "id": "NeSTv23_rmO7",
        "outputId": "05ac6a3a-3340-4795-9a79-3ac3f898eef0"
      },
      "execution_count": 14,
      "outputs": [
        {
          "output_type": "stream",
          "name": "stdout",
          "text": [
            "Requirement already satisfied: tensorflow-addons in /usr/local/lib/python3.10/dist-packages (0.23.0)\n",
            "Requirement already satisfied: packaging in /usr/local/lib/python3.10/dist-packages (from tensorflow-addons) (24.0)\n",
            "Requirement already satisfied: typeguard<3.0.0,>=2.7 in /usr/local/lib/python3.10/dist-packages (from tensorflow-addons) (2.13.3)\n",
            "Requirement already satisfied: networkx in /usr/local/lib/python3.10/dist-packages (3.2.1)\n",
            "Reading package lists... Done\n",
            "Building dependency tree... Done\n",
            "Reading state information... Done\n",
            "libgraphviz-dev is already the newest version (2.42.2-6).\n",
            "0 upgraded, 0 newly installed, 0 to remove and 45 not upgraded.\n",
            "Requirement already satisfied: pygraphviz in /usr/local/lib/python3.10/dist-packages (1.12)\n"
          ]
        }
      ]
    },
    {
      "cell_type": "markdown",
      "source": [
        "# Create directories that evolve_colab.sh will be writting to (in case they do not exist)"
      ],
      "metadata": {
        "id": "Gr08eRxR2gTP"
      }
    },
    {
      "cell_type": "code",
      "source": [
        "!mkdir /content/drive/MyDrive/stat_940_project/\"population history\"\n",
        "!mkdir /content/drive/MyDrive/stat_940_project/\"population\""
      ],
      "metadata": {
        "colab": {
          "base_uri": "https://localhost:8080/"
        },
        "id": "EF9emj5K2Gnu",
        "outputId": "08733c1b-23c8-4856-ba03-458d3dbdd2b3"
      },
      "execution_count": 15,
      "outputs": [
        {
          "output_type": "stream",
          "name": "stdout",
          "text": [
            "mkdir: cannot create directory ‘/content/drive/MyDrive/stat_940_project/population history’: File exists\n",
            "mkdir: cannot create directory ‘/content/drive/MyDrive/stat_940_project/population’: File exists\n"
          ]
        }
      ]
    },
    {
      "cell_type": "markdown",
      "source": [
        "# Run evolve_google.sh script, which saves to google drive every x generations"
      ],
      "metadata": {
        "id": "IHgX0TAFwuR6"
      }
    },
    {
      "cell_type": "code",
      "source": [
        "%cd /content/stat_940_project\n",
        "!sh evolve_colab.sh"
      ],
      "metadata": {
        "colab": {
          "base_uri": "https://localhost:8080/"
        },
        "id": "2zKjsLL6pOaB",
        "outputId": "d897ee96-7cf9-4b3c-c2d2-a372cd6fb7c0"
      },
      "execution_count": null,
      "outputs": [
        {
          "output_type": "stream",
          "name": "stdout",
          "text": [
            "/content/stat_940_project\n",
            "2024-04-11 16:15:35.401635: E external/local_xla/xla/stream_executor/cuda/cuda_dnn.cc:9261] Unable to register cuDNN factory: Attempting to register factory for plugin cuDNN when one has already been registered\n",
            "2024-04-11 16:15:35.401691: E external/local_xla/xla/stream_executor/cuda/cuda_fft.cc:607] Unable to register cuFFT factory: Attempting to register factory for plugin cuFFT when one has already been registered\n",
            "2024-04-11 16:15:35.403064: E external/local_xla/xla/stream_executor/cuda/cuda_blas.cc:1515] Unable to register cuBLAS factory: Attempting to register factory for plugin cuBLAS when one has already been registered\n",
            "2024-04-11 16:15:35.410642: I tensorflow/core/platform/cpu_feature_guard.cc:182] This TensorFlow binary is optimized to use available CPU instructions in performance-critical operations.\n",
            "To enable the following instructions: AVX2 FMA, in other operations, rebuild TensorFlow with the appropriate compiler flags.\n",
            "2024-04-11 16:15:36.797909: W tensorflow/compiler/tf2tensorrt/utils/py_utils.cc:38] TF-TRT Warning: Could not find TensorRT\n",
            "/usr/local/lib/python3.10/dist-packages/tensorflow_addons/utils/tfa_eol_msg.py:23: UserWarning: \n",
            "\n",
            "TensorFlow Addons (TFA) has ended development and introduction of new features.\n",
            "TFA has entered a minimal maintenance and release mode until a planned end of life in May 2024.\n",
            "Please modify downstream libraries to take dependencies from other repositories in our TensorFlow community (e.g. Keras, Keras-CV, and Keras-NLP). \n",
            "\n",
            "For more information see: https://github.com/tensorflow/addons/issues/2807 \n",
            "\n",
            "  warnings.warn(\n",
            "--- Generation 0 ---\n",
            "4\n",
            "6\n",
            "No population, first generation\n",
            "2024-04-11 16:15:39.490594: I external/local_xla/xla/stream_executor/cuda/cuda_executor.cc:901] successful NUMA node read from SysFS had negative value (-1), but there must be at least one NUMA node, so returning NUMA node zero. See more at https://github.com/torvalds/linux/blob/v6.0/Documentation/ABI/testing/sysfs-bus-pci#L344-L355\n",
            "2024-04-11 16:15:39.492233: I external/local_xla/xla/stream_executor/cuda/cuda_executor.cc:901] successful NUMA node read from SysFS had negative value (-1), but there must be at least one NUMA node, so returning NUMA node zero. See more at https://github.com/torvalds/linux/blob/v6.0/Documentation/ABI/testing/sysfs-bus-pci#L344-L355\n",
            "2024-04-11 16:15:39.492424: I external/local_xla/xla/stream_executor/cuda/cuda_executor.cc:901] successful NUMA node read from SysFS had negative value (-1), but there must be at least one NUMA node, so returning NUMA node zero. See more at https://github.com/torvalds/linux/blob/v6.0/Documentation/ABI/testing/sysfs-bus-pci#L344-L355\n",
            "2024-04-11 16:15:39.493084: I external/local_xla/xla/stream_executor/cuda/cuda_executor.cc:901] successful NUMA node read from SysFS had negative value (-1), but there must be at least one NUMA node, so returning NUMA node zero. See more at https://github.com/torvalds/linux/blob/v6.0/Documentation/ABI/testing/sysfs-bus-pci#L344-L355\n",
            "2024-04-11 16:15:39.493305: I external/local_xla/xla/stream_executor/cuda/cuda_executor.cc:901] successful NUMA node read from SysFS had negative value (-1), but there must be at least one NUMA node, so returning NUMA node zero. See more at https://github.com/torvalds/linux/blob/v6.0/Documentation/ABI/testing/sysfs-bus-pci#L344-L355\n",
            "2024-04-11 16:15:39.493477: I external/local_xla/xla/stream_executor/cuda/cuda_executor.cc:901] successful NUMA node read from SysFS had negative value (-1), but there must be at least one NUMA node, so returning NUMA node zero. See more at https://github.com/torvalds/linux/blob/v6.0/Documentation/ABI/testing/sysfs-bus-pci#L344-L355\n",
            "2024-04-11 16:15:39.688539: I external/local_xla/xla/stream_executor/cuda/cuda_executor.cc:901] successful NUMA node read from SysFS had negative value (-1), but there must be at least one NUMA node, so returning NUMA node zero. See more at https://github.com/torvalds/linux/blob/v6.0/Documentation/ABI/testing/sysfs-bus-pci#L344-L355\n",
            "2024-04-11 16:15:39.688765: I external/local_xla/xla/stream_executor/cuda/cuda_executor.cc:901] successful NUMA node read from SysFS had negative value (-1), but there must be at least one NUMA node, so returning NUMA node zero. See more at https://github.com/torvalds/linux/blob/v6.0/Documentation/ABI/testing/sysfs-bus-pci#L344-L355\n",
            "2024-04-11 16:15:39.688909: W tensorflow/core/common_runtime/gpu/gpu_bfc_allocator.cc:47] Overriding orig_value setting because the TF_FORCE_GPU_ALLOW_GROWTH environment variable is set. Original config value was 0.\n",
            "2024-04-11 16:15:39.688930: I tensorflow/core/common_runtime/gpu/gpu_process_state.cc:236] Using CUDA malloc Async allocator for GPU: 0\n",
            "2024-04-11 16:15:39.689050: I external/local_xla/xla/stream_executor/cuda/cuda_executor.cc:901] successful NUMA node read from SysFS had negative value (-1), but there must be at least one NUMA node, so returning NUMA node zero. See more at https://github.com/torvalds/linux/blob/v6.0/Documentation/ABI/testing/sysfs-bus-pci#L344-L355\n",
            "2024-04-11 16:15:39.689232: I tensorflow/core/common_runtime/gpu/gpu_device.cc:1929] Created device /job:localhost/replica:0/task:0/device:GPU:0 with 13949 MB memory:  -> device: 0, name: Tesla T4, pci bus id: 0000:00:04.0, compute capability: 7.5\n",
            "2024-04-11 16:15:39.780645: I external/local_xla/xla/stream_executor/cuda/cuda_dnn.cc:454] Loaded cuDNN version 8906\n",
            "v_0 = Input((vertex.shape_out[0], vertex.shape_out[0], vertex.shape_out[1]))\n",
            "e_0 = Conv2D(64, 16, strides = 2, activation='relu', padding = 'same', name = 'e_0')(v_0)\n",
            "concatenate\n",
            "v_2 = e_0\n",
            "e_1 = Conv2D(64, 8, strides = 2, activation='relu', padding = 'same', name = 'e_1')(v_2)\n",
            "concatenate\n",
            "v_3 = e_1\n",
            "e_2 = Conv2D(64, 4, strides = 2, activation='relu', padding = 'same', name = 'e_2')(v_3)\n",
            "concatenate\n",
            "v_4 = e_2\n",
            "e_3 = Conv2D(64, 2, strides = 2, activation='relu', padding = 'same', name = 'e_3')(v_4)\n",
            "concatenate\n",
            "v_5 = e_3\n",
            "e_4 = Conv2D(64, 2, strides = 2, activation='relu', padding = 'same', name = 'e_4')(v_5)\n",
            "output\n",
            "e_4=Flatten()(e_4)\n",
            "v_1 = Concatenate()([e_4])\n",
            "dense = Dense(10, activation = 'softmax', name = 'classifier')(v_1)\n",
            "output = Dropout(model_compiler.dropout)(dense)\n",
            "model = Model(v_0, output)\n",
            "2024-04-11 16:15:42.393426: W external/local_tsl/tsl/framework/cpu_allocator_impl.cc:83] Allocation of 614400000 exceeds 10% of free system memory.\n",
            "2024-04-11 16:15:43.024607: W external/local_tsl/tsl/framework/cpu_allocator_impl.cc:83] Allocation of 614400000 exceeds 10% of free system memory.\n",
            "Epoch 1/3\n",
            "782/782 [==============================] - 11s 8ms/step - loss: 2.7303 - accuracy: 0.3445\n",
            "Epoch 2/3\n",
            "782/782 [==============================] - 5s 7ms/step - loss: 2.5884 - accuracy: 0.4484\n",
            "Epoch 3/3\n",
            "782/782 [==============================] - 6s 7ms/step - loss: 2.5470 - accuracy: 0.4863\n",
            "313/313 [==============================] - 1s 3ms/step - loss: 1.8629 - accuracy: 0.5133\n",
            "\n",
            "2024-04-11 16:16:32.975385: E external/local_xla/xla/stream_executor/cuda/cuda_dnn.cc:9261] Unable to register cuDNN factory: Attempting to register factory for plugin cuDNN when one has already been registered\n",
            "2024-04-11 16:16:32.975436: E external/local_xla/xla/stream_executor/cuda/cuda_fft.cc:607] Unable to register cuFFT factory: Attempting to register factory for plugin cuFFT when one has already been registered\n",
            "2024-04-11 16:16:32.976715: E external/local_xla/xla/stream_executor/cuda/cuda_blas.cc:1515] Unable to register cuBLAS factory: Attempting to register factory for plugin cuBLAS when one has already been registered\n",
            "2024-04-11 16:16:32.983788: I tensorflow/core/platform/cpu_feature_guard.cc:182] This TensorFlow binary is optimized to use available CPU instructions in performance-critical operations.\n",
            "To enable the following instructions: AVX2 FMA, in other operations, rebuild TensorFlow with the appropriate compiler flags.\n",
            "2024-04-11 16:16:34.063800: W tensorflow/compiler/tf2tensorrt/utils/py_utils.cc:38] TF-TRT Warning: Could not find TensorRT\n",
            "/usr/local/lib/python3.10/dist-packages/tensorflow_addons/utils/tfa_eol_msg.py:23: UserWarning: \n",
            "\n",
            "TensorFlow Addons (TFA) has ended development and introduction of new features.\n",
            "TFA has entered a minimal maintenance and release mode until a planned end of life in May 2024.\n",
            "Please modify downstream libraries to take dependencies from other repositories in our TensorFlow community (e.g. Keras, Keras-CV, and Keras-NLP). \n",
            "\n",
            "For more information see: https://github.com/tensorflow/addons/issues/2807 \n",
            "\n",
            "  warnings.warn(\n",
            "--- Generation 1 ---\n",
            "3\n",
            "4\n",
            "Applying add_vertex\n",
            "1 2\n",
            "2024-04-11 16:16:36.127003: I external/local_xla/xla/stream_executor/cuda/cuda_executor.cc:901] successful NUMA node read from SysFS had negative value (-1), but there must be at least one NUMA node, so returning NUMA node zero. See more at https://github.com/torvalds/linux/blob/v6.0/Documentation/ABI/testing/sysfs-bus-pci#L344-L355\n",
            "2024-04-11 16:16:36.128582: I external/local_xla/xla/stream_executor/cuda/cuda_executor.cc:901] successful NUMA node read from SysFS had negative value (-1), but there must be at least one NUMA node, so returning NUMA node zero. See more at https://github.com/torvalds/linux/blob/v6.0/Documentation/ABI/testing/sysfs-bus-pci#L344-L355\n",
            "2024-04-11 16:16:36.128768: I external/local_xla/xla/stream_executor/cuda/cuda_executor.cc:901] successful NUMA node read from SysFS had negative value (-1), but there must be at least one NUMA node, so returning NUMA node zero. See more at https://github.com/torvalds/linux/blob/v6.0/Documentation/ABI/testing/sysfs-bus-pci#L344-L355\n",
            "2024-04-11 16:16:36.129485: I external/local_xla/xla/stream_executor/cuda/cuda_executor.cc:901] successful NUMA node read from SysFS had negative value (-1), but there must be at least one NUMA node, so returning NUMA node zero. See more at https://github.com/torvalds/linux/blob/v6.0/Documentation/ABI/testing/sysfs-bus-pci#L344-L355\n",
            "2024-04-11 16:16:36.129678: I external/local_xla/xla/stream_executor/cuda/cuda_executor.cc:901] successful NUMA node read from SysFS had negative value (-1), but there must be at least one NUMA node, so returning NUMA node zero. See more at https://github.com/torvalds/linux/blob/v6.0/Documentation/ABI/testing/sysfs-bus-pci#L344-L355\n",
            "2024-04-11 16:16:36.129829: I external/local_xla/xla/stream_executor/cuda/cuda_executor.cc:901] successful NUMA node read from SysFS had negative value (-1), but there must be at least one NUMA node, so returning NUMA node zero. See more at https://github.com/torvalds/linux/blob/v6.0/Documentation/ABI/testing/sysfs-bus-pci#L344-L355\n",
            "2024-04-11 16:16:36.335500: I external/local_xla/xla/stream_executor/cuda/cuda_executor.cc:901] successful NUMA node read from SysFS had negative value (-1), but there must be at least one NUMA node, so returning NUMA node zero. See more at https://github.com/torvalds/linux/blob/v6.0/Documentation/ABI/testing/sysfs-bus-pci#L344-L355\n",
            "2024-04-11 16:16:36.335723: I external/local_xla/xla/stream_executor/cuda/cuda_executor.cc:901] successful NUMA node read from SysFS had negative value (-1), but there must be at least one NUMA node, so returning NUMA node zero. See more at https://github.com/torvalds/linux/blob/v6.0/Documentation/ABI/testing/sysfs-bus-pci#L344-L355\n",
            "2024-04-11 16:16:36.335873: W tensorflow/core/common_runtime/gpu/gpu_bfc_allocator.cc:47] Overriding orig_value setting because the TF_FORCE_GPU_ALLOW_GROWTH environment variable is set. Original config value was 0.\n",
            "2024-04-11 16:16:36.335892: I tensorflow/core/common_runtime/gpu/gpu_process_state.cc:236] Using CUDA malloc Async allocator for GPU: 0\n",
            "2024-04-11 16:16:36.336023: I external/local_xla/xla/stream_executor/cuda/cuda_executor.cc:901] successful NUMA node read from SysFS had negative value (-1), but there must be at least one NUMA node, so returning NUMA node zero. See more at https://github.com/torvalds/linux/blob/v6.0/Documentation/ABI/testing/sysfs-bus-pci#L344-L355\n",
            "2024-04-11 16:16:36.336209: I tensorflow/core/common_runtime/gpu/gpu_device.cc:1929] Created device /job:localhost/replica:0/task:0/device:GPU:0 with 13949 MB memory:  -> device: 0, name: Tesla T4, pci bus id: 0000:00:04.0, compute capability: 7.5\n",
            "2024-04-11 16:16:36.430475: I external/local_xla/xla/stream_executor/cuda/cuda_dnn.cc:454] Loaded cuDNN version 8906\n",
            "new shape in: (8, 128)\n",
            "Applying distil_to_concat\n",
            "v_0 = Input((vertex.shape_out[0], vertex.shape_out[0], vertex.shape_out[1]))\n",
            "e_0 = Conv2D(64, 16, strides = 2, activation='relu', padding = 'same', name = 'e_0')(v_0)\n",
            "concatenate\n",
            "v_2 = e_0\n",
            "e_1 = Conv2D(64, 8, strides = 2, activation='relu', padding = 'same', name = 'e_1')(v_2)\n",
            "concatenate\n",
            "v_6 = e_1\n",
            "e_5 = Conv2D(128, 2, strides = 1, activation='relu', padding = 'same', name = 'e_5')(v_6)\n",
            "concatenate\n",
            "v_3 = e_5\n",
            "e_2 = Conv2D(64, 4, strides = 2, activation='relu', padding = 'same', name = 'e_2')(v_3)\n",
            "concatenate\n",
            "v_4 = e_2\n",
            "e_3 = Conv2D(64, 2, strides = 2, activation='relu', padding = 'same', name = 'e_3')(v_4)\n",
            "concatenate\n",
            "v_5 = e_3\n",
            "e_4 = Conv2D(64, 2, strides = 2, activation='relu', padding = 'same', name = 'e_4')(v_5)\n",
            "output\n",
            "e_4=Flatten()(e_4)\n",
            "v_1 = Concatenate()([e_4])\n",
            "dense = Dense(10, activation = 'softmax', name = 'classifier')(v_1)\n",
            "output = Dropout(model_compiler.dropout)(dense)\n",
            "model = Model(v_0, output)\n",
            "2024-04-11 16:16:38.900514: W external/local_tsl/tsl/framework/cpu_allocator_impl.cc:83] Allocation of 614400000 exceeds 10% of free system memory.\n",
            "2024-04-11 16:16:39.524990: W external/local_tsl/tsl/framework/cpu_allocator_impl.cc:83] Allocation of 614400000 exceeds 10% of free system memory.\n",
            "Epoch 1/3\n",
            "782/782 [==============================] - 12s 8ms/step - loss: 2.7279 - accuracy: 0.3269\n",
            "Epoch 2/3\n",
            "782/782 [==============================] - 6s 8ms/step - loss: 2.5935 - accuracy: 0.4464\n",
            "Epoch 3/3\n",
            "782/782 [==============================] - 6s 7ms/step - loss: 2.5386 - accuracy: 0.4925\n",
            "313/313 [==============================] - 1s 3ms/step - loss: 1.8660 - accuracy: 0.5065\n",
            "\n",
            "2024-04-11 16:17:29.020729: E external/local_xla/xla/stream_executor/cuda/cuda_dnn.cc:9261] Unable to register cuDNN factory: Attempting to register factory for plugin cuDNN when one has already been registered\n",
            "2024-04-11 16:17:29.020781: E external/local_xla/xla/stream_executor/cuda/cuda_fft.cc:607] Unable to register cuFFT factory: Attempting to register factory for plugin cuFFT when one has already been registered\n",
            "2024-04-11 16:17:29.022054: E external/local_xla/xla/stream_executor/cuda/cuda_blas.cc:1515] Unable to register cuBLAS factory: Attempting to register factory for plugin cuBLAS when one has already been registered\n",
            "2024-04-11 16:17:29.028958: I tensorflow/core/platform/cpu_feature_guard.cc:182] This TensorFlow binary is optimized to use available CPU instructions in performance-critical operations.\n",
            "To enable the following instructions: AVX2 FMA, in other operations, rebuild TensorFlow with the appropriate compiler flags.\n",
            "2024-04-11 16:17:30.093614: W tensorflow/compiler/tf2tensorrt/utils/py_utils.cc:38] TF-TRT Warning: Could not find TensorRT\n",
            "/usr/local/lib/python3.10/dist-packages/tensorflow_addons/utils/tfa_eol_msg.py:23: UserWarning: \n",
            "\n",
            "TensorFlow Addons (TFA) has ended development and introduction of new features.\n",
            "TFA has entered a minimal maintenance and release mode until a planned end of life in May 2024.\n",
            "Please modify downstream libraries to take dependencies from other repositories in our TensorFlow community (e.g. Keras, Keras-CV, and Keras-NLP). \n",
            "\n",
            "For more information see: https://github.com/tensorflow/addons/issues/2807 \n",
            "\n",
            "  warnings.warn(\n",
            "--- Generation 2 ---\n",
            "6\n",
            "2\n",
            "Applying add_edge\n",
            "8 16\n",
            "2024-04-11 16:17:33.008624: I external/local_xla/xla/stream_executor/cuda/cuda_executor.cc:901] successful NUMA node read from SysFS had negative value (-1), but there must be at least one NUMA node, so returning NUMA node zero. See more at https://github.com/torvalds/linux/blob/v6.0/Documentation/ABI/testing/sysfs-bus-pci#L344-L355\n",
            "2024-04-11 16:17:33.011026: I external/local_xla/xla/stream_executor/cuda/cuda_executor.cc:901] successful NUMA node read from SysFS had negative value (-1), but there must be at least one NUMA node, so returning NUMA node zero. See more at https://github.com/torvalds/linux/blob/v6.0/Documentation/ABI/testing/sysfs-bus-pci#L344-L355\n",
            "2024-04-11 16:17:33.011278: I external/local_xla/xla/stream_executor/cuda/cuda_executor.cc:901] successful NUMA node read from SysFS had negative value (-1), but there must be at least one NUMA node, so returning NUMA node zero. See more at https://github.com/torvalds/linux/blob/v6.0/Documentation/ABI/testing/sysfs-bus-pci#L344-L355\n",
            "2024-04-11 16:17:33.012069: I external/local_xla/xla/stream_executor/cuda/cuda_executor.cc:901] successful NUMA node read from SysFS had negative value (-1), but there must be at least one NUMA node, so returning NUMA node zero. See more at https://github.com/torvalds/linux/blob/v6.0/Documentation/ABI/testing/sysfs-bus-pci#L344-L355\n",
            "2024-04-11 16:17:33.012311: I external/local_xla/xla/stream_executor/cuda/cuda_executor.cc:901] successful NUMA node read from SysFS had negative value (-1), but there must be at least one NUMA node, so returning NUMA node zero. See more at https://github.com/torvalds/linux/blob/v6.0/Documentation/ABI/testing/sysfs-bus-pci#L344-L355\n",
            "2024-04-11 16:17:33.012581: I external/local_xla/xla/stream_executor/cuda/cuda_executor.cc:901] successful NUMA node read from SysFS had negative value (-1), but there must be at least one NUMA node, so returning NUMA node zero. See more at https://github.com/torvalds/linux/blob/v6.0/Documentation/ABI/testing/sysfs-bus-pci#L344-L355\n",
            "2024-04-11 16:17:33.239731: I external/local_xla/xla/stream_executor/cuda/cuda_executor.cc:901] successful NUMA node read from SysFS had negative value (-1), but there must be at least one NUMA node, so returning NUMA node zero. See more at https://github.com/torvalds/linux/blob/v6.0/Documentation/ABI/testing/sysfs-bus-pci#L344-L355\n",
            "2024-04-11 16:17:33.239935: I external/local_xla/xla/stream_executor/cuda/cuda_executor.cc:901] successful NUMA node read from SysFS had negative value (-1), but there must be at least one NUMA node, so returning NUMA node zero. See more at https://github.com/torvalds/linux/blob/v6.0/Documentation/ABI/testing/sysfs-bus-pci#L344-L355\n",
            "2024-04-11 16:17:33.240077: W tensorflow/core/common_runtime/gpu/gpu_bfc_allocator.cc:47] Overriding orig_value setting because the TF_FORCE_GPU_ALLOW_GROWTH environment variable is set. Original config value was 0.\n",
            "2024-04-11 16:17:33.240097: I tensorflow/core/common_runtime/gpu/gpu_process_state.cc:236] Using CUDA malloc Async allocator for GPU: 0\n",
            "2024-04-11 16:17:33.240251: I external/local_xla/xla/stream_executor/cuda/cuda_executor.cc:901] successful NUMA node read from SysFS had negative value (-1), but there must be at least one NUMA node, so returning NUMA node zero. See more at https://github.com/torvalds/linux/blob/v6.0/Documentation/ABI/testing/sysfs-bus-pci#L344-L355\n",
            "2024-04-11 16:17:33.240418: I tensorflow/core/common_runtime/gpu/gpu_device.cc:1929] Created device /job:localhost/replica:0/task:0/device:GPU:0 with 13949 MB memory:  -> device: 0, name: Tesla T4, pci bus id: 0000:00:04.0, compute capability: 7.5\n",
            "2024-04-11 16:17:33.333173: I external/local_xla/xla/stream_executor/cuda/cuda_dnn.cc:454] Loaded cuDNN version 8906\n",
            "Applying mutate_hp\n",
            "v_0 = Input((vertex.shape_out[0], vertex.shape_out[0], vertex.shape_out[1]))\n",
            "e_0 = Conv2D(64, 16, strides = 2, activation='relu', padding = 'same', name = 'e_0')(v_0)\n",
            "e_5 = Conv2D(32, 12, strides = 8, activation='relu', padding = 'same', name = 'e_5')(v_0)\n",
            "concatenate\n",
            "v_2 = e_0\n",
            "e_1 = Conv2D(64, 8, strides = 2, activation='relu', padding = 'same', name = 'e_1')(v_2)\n",
            "concatenate\n",
            "v_3 = e_1\n",
            "e_2 = Conv2D(64, 4, strides = 2, activation='relu', padding = 'same', name = 'e_2')(v_3)\n",
            "concatenate\n",
            "v_4 = Concatenate()([e_2,e_5])\n",
            "e_3 = Conv2D(64, 2, strides = 2, activation='relu', padding = 'same', name = 'e_3')(v_4)\n",
            "concatenate\n",
            "v_5 = e_3\n",
            "e_4 = Conv2D(64, 2, strides = 2, activation='relu', padding = 'same', name = 'e_4')(v_5)\n",
            "output\n",
            "e_4=Flatten()(e_4)\n",
            "v_1 = Concatenate()([e_4])\n",
            "dense = Dense(10, activation = 'softmax', name = 'classifier')(v_1)\n",
            "output = Dropout(model_compiler.dropout)(dense)\n",
            "model = Model(v_0, output)\n",
            "2024-04-11 16:17:35.764993: W external/local_tsl/tsl/framework/cpu_allocator_impl.cc:83] Allocation of 614400000 exceeds 10% of free system memory.\n",
            "2024-04-11 16:17:36.396623: W external/local_tsl/tsl/framework/cpu_allocator_impl.cc:83] Allocation of 614400000 exceeds 10% of free system memory.\n",
            "Epoch 1/16\n",
            "782/782 [==============================] - 11s 8ms/step - loss: 2.7055 - accuracy: 0.3528\n",
            "Epoch 2/16\n",
            "782/782 [==============================] - 5s 7ms/step - loss: 2.5874 - accuracy: 0.4539\n",
            "Epoch 3/16\n",
            "782/782 [==============================] - 6s 8ms/step - loss: 2.5502 - accuracy: 0.4992\n",
            "Epoch 4/16\n",
            "782/782 [==============================] - 5s 7ms/step - loss: 2.5058 - accuracy: 0.5248\n",
            "Epoch 5/16\n",
            "782/782 [==============================] - 6s 7ms/step - loss: 2.4609 - accuracy: 0.5518\n",
            "Epoch 6/16\n",
            "782/782 [==============================] - 6s 8ms/step - loss: 2.4438 - accuracy: 0.5746\n",
            "Epoch 7/16\n",
            "782/782 [==============================] - 5s 7ms/step - loss: 2.3912 - accuracy: 0.5949\n",
            "Epoch 8/16\n",
            "782/782 [==============================] - 6s 8ms/step - loss: 2.3795 - accuracy: 0.6143\n",
            "Epoch 9/16\n",
            "782/782 [==============================] - 5s 7ms/step - loss: 2.3889 - accuracy: 0.6282\n",
            "Epoch 10/16\n",
            "782/782 [==============================] - 6s 8ms/step - loss: 2.3511 - accuracy: 0.6486\n",
            "Epoch 11/16\n",
            "782/782 [==============================] - 5s 7ms/step - loss: 2.3311 - accuracy: 0.6616\n",
            "Epoch 12/16\n",
            "782/782 [==============================] - 6s 7ms/step - loss: 2.3129 - accuracy: 0.6782\n",
            "Epoch 13/16\n",
            "782/782 [==============================] - 6s 7ms/step - loss: 2.3067 - accuracy: 0.6895\n",
            "Epoch 14/16\n",
            "782/782 [==============================] - 5s 7ms/step - loss: 2.2837 - accuracy: 0.7072\n",
            "Epoch 15/16\n",
            "782/782 [==============================] - 6s 8ms/step - loss: 2.2526 - accuracy: 0.7208\n",
            "Epoch 16/16\n",
            "782/782 [==============================] - 5s 7ms/step - loss: 2.2675 - accuracy: 0.7299\n",
            "313/313 [==============================] - 1s 3ms/step - loss: 1.8210 - accuracy: 0.5754\n",
            "\n",
            "2024-04-11 16:19:20.725715: E external/local_xla/xla/stream_executor/cuda/cuda_dnn.cc:9261] Unable to register cuDNN factory: Attempting to register factory for plugin cuDNN when one has already been registered\n",
            "2024-04-11 16:19:20.725760: E external/local_xla/xla/stream_executor/cuda/cuda_fft.cc:607] Unable to register cuFFT factory: Attempting to register factory for plugin cuFFT when one has already been registered\n",
            "2024-04-11 16:19:20.727065: E external/local_xla/xla/stream_executor/cuda/cuda_blas.cc:1515] Unable to register cuBLAS factory: Attempting to register factory for plugin cuBLAS when one has already been registered\n",
            "2024-04-11 16:19:20.734284: I tensorflow/core/platform/cpu_feature_guard.cc:182] This TensorFlow binary is optimized to use available CPU instructions in performance-critical operations.\n",
            "To enable the following instructions: AVX2 FMA, in other operations, rebuild TensorFlow with the appropriate compiler flags.\n",
            "2024-04-11 16:19:21.810550: W tensorflow/compiler/tf2tensorrt/utils/py_utils.cc:38] TF-TRT Warning: Could not find TensorRT\n",
            "/usr/local/lib/python3.10/dist-packages/tensorflow_addons/utils/tfa_eol_msg.py:23: UserWarning: \n",
            "\n",
            "TensorFlow Addons (TFA) has ended development and introduction of new features.\n",
            "TFA has entered a minimal maintenance and release mode until a planned end of life in May 2024.\n",
            "Please modify downstream libraries to take dependencies from other repositories in our TensorFlow community (e.g. Keras, Keras-CV, and Keras-NLP). \n",
            "\n",
            "For more information see: https://github.com/tensorflow/addons/issues/2807 \n",
            "\n",
            "  warnings.warn(\n",
            "--- Generation 3 ---\n",
            "3\n",
            "0\n",
            "Applying add_vertex\n",
            "1 2\n",
            "2024-04-11 16:19:23.869122: I external/local_xla/xla/stream_executor/cuda/cuda_executor.cc:901] successful NUMA node read from SysFS had negative value (-1), but there must be at least one NUMA node, so returning NUMA node zero. See more at https://github.com/torvalds/linux/blob/v6.0/Documentation/ABI/testing/sysfs-bus-pci#L344-L355\n",
            "2024-04-11 16:19:23.870865: I external/local_xla/xla/stream_executor/cuda/cuda_executor.cc:901] successful NUMA node read from SysFS had negative value (-1), but there must be at least one NUMA node, so returning NUMA node zero. See more at https://github.com/torvalds/linux/blob/v6.0/Documentation/ABI/testing/sysfs-bus-pci#L344-L355\n",
            "2024-04-11 16:19:23.871063: I external/local_xla/xla/stream_executor/cuda/cuda_executor.cc:901] successful NUMA node read from SysFS had negative value (-1), but there must be at least one NUMA node, so returning NUMA node zero. See more at https://github.com/torvalds/linux/blob/v6.0/Documentation/ABI/testing/sysfs-bus-pci#L344-L355\n",
            "2024-04-11 16:19:23.871721: I external/local_xla/xla/stream_executor/cuda/cuda_executor.cc:901] successful NUMA node read from SysFS had negative value (-1), but there must be at least one NUMA node, so returning NUMA node zero. See more at https://github.com/torvalds/linux/blob/v6.0/Documentation/ABI/testing/sysfs-bus-pci#L344-L355\n",
            "2024-04-11 16:19:23.871919: I external/local_xla/xla/stream_executor/cuda/cuda_executor.cc:901] successful NUMA node read from SysFS had negative value (-1), but there must be at least one NUMA node, so returning NUMA node zero. See more at https://github.com/torvalds/linux/blob/v6.0/Documentation/ABI/testing/sysfs-bus-pci#L344-L355\n",
            "2024-04-11 16:19:23.872068: I external/local_xla/xla/stream_executor/cuda/cuda_executor.cc:901] successful NUMA node read from SysFS had negative value (-1), but there must be at least one NUMA node, so returning NUMA node zero. See more at https://github.com/torvalds/linux/blob/v6.0/Documentation/ABI/testing/sysfs-bus-pci#L344-L355\n",
            "2024-04-11 16:19:24.075750: I external/local_xla/xla/stream_executor/cuda/cuda_executor.cc:901] successful NUMA node read from SysFS had negative value (-1), but there must be at least one NUMA node, so returning NUMA node zero. See more at https://github.com/torvalds/linux/blob/v6.0/Documentation/ABI/testing/sysfs-bus-pci#L344-L355\n",
            "2024-04-11 16:19:24.075963: I external/local_xla/xla/stream_executor/cuda/cuda_executor.cc:901] successful NUMA node read from SysFS had negative value (-1), but there must be at least one NUMA node, so returning NUMA node zero. See more at https://github.com/torvalds/linux/blob/v6.0/Documentation/ABI/testing/sysfs-bus-pci#L344-L355\n",
            "2024-04-11 16:19:24.076101: W tensorflow/core/common_runtime/gpu/gpu_bfc_allocator.cc:47] Overriding orig_value setting because the TF_FORCE_GPU_ALLOW_GROWTH environment variable is set. Original config value was 0.\n",
            "2024-04-11 16:19:24.076120: I tensorflow/core/common_runtime/gpu/gpu_process_state.cc:236] Using CUDA malloc Async allocator for GPU: 0\n",
            "2024-04-11 16:19:24.076266: I external/local_xla/xla/stream_executor/cuda/cuda_executor.cc:901] successful NUMA node read from SysFS had negative value (-1), but there must be at least one NUMA node, so returning NUMA node zero. See more at https://github.com/torvalds/linux/blob/v6.0/Documentation/ABI/testing/sysfs-bus-pci#L344-L355\n",
            "2024-04-11 16:19:24.076443: I tensorflow/core/common_runtime/gpu/gpu_device.cc:1929] Created device /job:localhost/replica:0/task:0/device:GPU:0 with 13949 MB memory:  -> device: 0, name: Tesla T4, pci bus id: 0000:00:04.0, compute capability: 7.5\n",
            "new shape in: (8, 4)\n",
            "Applying concat_to_distil\n",
            "2024-04-11 16:19:24.189480: I external/local_xla/xla/stream_executor/cuda/cuda_dnn.cc:454] Loaded cuDNN version 8906\n",
            "Applying add_edge\n",
            "2 2\n",
            "v_0 = Input((vertex.shape_out[0], vertex.shape_out[0], vertex.shape_out[1]))\n",
            "e_0 = Conv2D(64, 16, strides = 2, activation='relu', padding = 'same', name = 'e_0')(v_0)\n",
            "concatenate\n",
            "v_2 = e_0\n",
            "e_1 = Conv2D(64, 8, strides = 2, activation='relu', padding = 'same', name = 'e_1')(v_2)\n",
            "concatenate\n",
            "v_6 = e_1\n",
            "e_5 = Conv2D(4, 1, strides = 1, activation='relu', padding = 'same', name = 'e_5')(v_6)\n",
            "concatenate\n",
            "v_3 = e_5\n",
            "e_2 = Conv2D(64, 4, strides = 2, activation='relu', padding = 'same', name = 'e_2')(v_3)\n",
            "concatenate\n",
            "v_4 = e_2\n",
            "e_3 = Conv2D(64, 2, strides = 2, activation='relu', padding = 'same', name = 'e_3')(v_4)\n",
            "add\n",
            "v_5 = e_3\n",
            "e_4 = Conv2D(64, 2, strides = 2, activation='relu', padding = 'same', name = 'e_4')(v_5)\n",
            "e_6 = Conv2D(64, 2, strides = 2, activation='relu', padding = 'same', name = 'e_6')(v_5)\n",
            "output\n",
            "e_4=Flatten()(e_4)\n",
            "e_6=Flatten()(e_6)\n",
            "v_1 = Concatenate()([e_4,e_6])\n",
            "dense = Dense(10, activation = 'softmax', name = 'classifier')(v_1)\n",
            "output = Dropout(model_compiler.dropout)(dense)\n",
            "model = Model(v_0, output)\n",
            "2024-04-11 16:19:26.677764: W external/local_tsl/tsl/framework/cpu_allocator_impl.cc:83] Allocation of 614400000 exceeds 10% of free system memory.\n",
            "2024-04-11 16:19:27.307408: W external/local_tsl/tsl/framework/cpu_allocator_impl.cc:83] Allocation of 614400000 exceeds 10% of free system memory.\n",
            "Epoch 1/3\n"
          ]
        }
      ]
    },
    {
      "cell_type": "code",
      "source": [],
      "metadata": {
        "id": "emyKpZ5f703H"
      },
      "execution_count": null,
      "outputs": []
    }
  ]
}